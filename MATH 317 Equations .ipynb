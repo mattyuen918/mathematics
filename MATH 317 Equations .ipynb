{
 "cells": [
  {
   "cell_type": "markdown",
   "metadata": {},
   "source": [
    "# MATH 317 EQUATIONS\n"
   ]
  },
  {
   "cell_type": "markdown",
   "metadata": {},
   "source": [
    "## 0. Work Integral\n",
    "\n",
    "$$ W = \\int_a^b F(r(t)) \\cdot \\space r'(t) \\space dt$$"
   ]
  },
  {
   "cell_type": "markdown",
   "metadata": {},
   "source": [
    "## 1.  Line Integrals"
   ]
  },
  {
   "cell_type": "markdown",
   "metadata": {},
   "source": [
    "$\\int_c f(x,y)ds = \\int_a^b f(r(t))\\space ||(r'(t))|| \\space dt $"
   ]
  },
  {
   "cell_type": "markdown",
   "metadata": {},
   "source": [
    "##### 1a. Fundamental Theorem of Line Integrals:\n",
    "\n",
    "$\\triangledown$ = gradient of a vector f"
   ]
  },
  {
   "cell_type": "markdown",
   "metadata": {},
   "source": [
    "$\\int_C P \\space dx + Q \\space dy = $\n",
    "$\\int \\space (\\triangledown \\space f) \\cdot \\space dr = f(r(b)) - f(r(a)) $"
   ]
  },
  {
   "cell_type": "markdown",
   "metadata": {},
   "source": [
    "F = Pi + Qj be a vector field on a open and simply connected region D. Then if P and Q have continuous first order partial derivative, then vector field F is conservative: \n",
    "\n",
    "$ P_y = Q_x = \\frac{\\partial P}{\\partial y} = \\frac{\\partial Q}{\\partial x} $"
   ]
  },
  {
   "cell_type": "markdown",
   "metadata": {},
   "source": [
    "##### 1b. Green's Theorem:\n",
    "\n",
    "Let C be a positively oriented **closed** curve and let D be the region enclosed by the curve. \n",
    "\n",
    "$\\oint_C \\space P \\space dx + \\space Q \\space dy = \\iint \\left(\\frac{\\partial Q}{\\partial x} - \\frac{\\partial P}{\\partial y} \\right) \\space dxdy = \\iint Q_x - P_y \\space dxdy $"
   ]
  },
  {
   "cell_type": "markdown",
   "metadata": {},
   "source": [
    "##### 1c. Curl and Divergence: \n",
    "\n",
    "Curl takes a vector field and returns a vector field: {vector field} $\\rightarrow$ {vector field} \n",
    "\n",
    "Divergence takes a vector field and returns a function: {vector field} $\\rightarrow$ {function} \n",
    "\n",
    "Gradient takes a function and returns a vector field: {function} $\\rightarrow$ {vector field}"
   ]
  },
  {
   "cell_type": "markdown",
   "metadata": {},
   "source": [
    "Given F = Pi + Qj + Rk \n",
    "\n",
    "curl(F) = $<R_y - Q_z\\space, \\space P_z-R_x\\space,\\space Q_x - P_y> $\n",
    "\n",
    "div(F) = $P_x + Q_x + R_z $\n",
    "\n",
    "grad f = $<f_x \\space, \\space f_y \\space, \\space f_z> $"
   ]
  },
  {
   "cell_type": "markdown",
   "metadata": {},
   "source": [
    "## 2. Surface Integrals "
   ]
  },
  {
   "cell_type": "markdown",
   "metadata": {},
   "source": [
    "##### 2a. Surface Integrals\n",
    "\n",
    "$\\iint f(x,y,z) dS = \\iint f(r(u,v))) \\space {|| \\space ru \\space x \\space rv \\space ||} \\space dA $"
   ]
  },
  {
   "cell_type": "markdown",
   "metadata": {},
   "source": [
    "Note: \n",
    "\n",
    "$\\text{ ||  ru x  rv || } = \\sqrt{1+(fx)^2+(fy)^2}$ and $ || \\space r\\theta \\space \\text{x} \\space r\\phi || = R^2 \\sin\\phi $"
   ]
  },
  {
   "cell_type": "markdown",
   "metadata": {},
   "source": [
    "##### 2b. Surface Integrals of Vector Fields\n",
    "\n",
    "$\\iint F \\cdot dS = \\iint F \\cdot n \\space dS =$ $\\iint F \\cdot \\left( \\frac{\\text{ru x rv}}{\\text{||ru x rv||}}\\right) \\text{||ru x rv||} \\space dA = \\iint F \\cdot (\\text{ru x rv}) \\space dA $  "
   ]
  },
  {
   "cell_type": "markdown",
   "metadata": {},
   "source": [
    "##### 2c. Stokes' Theorem\n",
    "\n",
    "$\\int_c F \\cdot dr = \\iint_s \\text{curl}F \\cdot dS $ = $\\iint \\text{curl}F \\cdot n \\space dS $"
   ]
  },
  {
   "cell_type": "markdown",
   "metadata": {
    "collapsed": true
   },
   "source": [
    "#### 2d. Divergence Theorem \n",
    "\n",
    "$\\iint_s F \\cdot ds = \\iiint_E \\space (divF)dvol$"
   ]
  }
 ],
 "metadata": {
  "kernelspec": {
   "display_name": "Python 3",
   "language": "python",
   "name": "python3"
  },
  "language_info": {
   "codemirror_mode": {
    "name": "ipython",
    "version": 3
   },
   "file_extension": ".py",
   "mimetype": "text/x-python",
   "name": "python",
   "nbconvert_exporter": "python",
   "pygments_lexer": "ipython3",
   "version": "3.6.1"
  }
 },
 "nbformat": 4,
 "nbformat_minor": 2
}
