{
 "cells": [
  {
   "cell_type": "code",
   "execution_count": 1,
   "metadata": {},
   "outputs": [],
   "source": [
    "import numpy as np"
   ]
  },
  {
   "cell_type": "markdown",
   "metadata": {},
   "source": [
    "# Universal Soil Loss Equation\n",
    "\n",
    "Written by: Matthew Yuen \n",
    "\n",
    "The Universal Soil Loss Equation (USLE) predicts the long-term average annual rate of erosion on a field slope based on rainfall pattern, soil type, topography, crop system, and management practices. USLE only predicts the amount of soil loss that results from sheet or rill erosion on a single slope and does not account for additional soil losses that might occur from gully, wind or tillage erosion. This erosion model was created for use in selected cropping and management systems, but is also applicable to non-agricultural conditions such as construction sites. A Revised Universal Soil Loss Equation (RUSLE) was created to address more detailed factors in the same equation. "
   ]
  },
  {
   "cell_type": "markdown",
   "metadata": {},
   "source": [
    "The Equation: \n",
    "\n",
    "$$ A = (R)(K)(LS)(C)(P) $$ \n",
    "\n",
    "where: \n",
    "\n",
    "A is the potential long-term average annual soil loss in tonnes per hectare per year.\n",
    "\n",
    "R is the rainfall and runoff factor by geographic location.\n",
    "\n",
    "K is the soil erodibility factor. IT is the measure of susceptibility of soil particles to detachment and transport by rain and runoff. \n",
    "\n",
    "LS is the length and slope steepness factor. \n",
    "\n",
    "C is the crop and vegetation management factor. \n",
    "\n",
    "P is the support practice factor. "
   ]
  },
  {
   "cell_type": "code",
   "execution_count": 2,
   "metadata": {},
   "outputs": [],
   "source": [
    "def A(R,K,LS,C,P):\n",
    "    # R,K,LS,C,P are inputs\n",
    "    return(R*K*LS*C*P)"
   ]
  },
  {
   "cell_type": "markdown",
   "metadata": {},
   "source": [
    "## R Factor\n",
    "\n",
    "R-factor is the long-term average rainfall conditions for specific geographic areas. "
   ]
  },
  {
   "cell_type": "markdown",
   "metadata": {},
   "source": [
    "We can determine the R factor by using figures presented in Wall et. al. \n",
    "\n",
    "    a) Eastern Canada\n",
    "    - Locate the area of interest in Figure R-1 and Figure R-2.\n",
    "    - Extrapolate point or area relative to R factor contours. \n",
    "    \n",
    "    b) Prairie Provinces\n",
    "    - Locate area of interest in Figures R-3a and R-3b\n",
    "    - Add values to determine parameter R\n",
    "    \n",
    "    c) British Columbia\n",
    "    - Locate area of interest in Figure R-4\n",
    "    - Can convert to SI metric units by multiplying by 17.02"
   ]
  },
  {
   "cell_type": "markdown",
   "metadata": {},
   "source": [
    "We can also calcualte seasonal R values:\n",
    "\n",
    "    - Determine time of interest (eg. cropstage, season, months, etc.)\n",
    "    - Select monthly distribution from climatic station closest to area of interest. \n",
    "    - Add the monthly values by the annual R for the time of interest\n",
    "    - Multiply the value of total annual R value"
   ]
  },
  {
   "cell_type": "markdown",
   "metadata": {},
   "source": [
    "Example of calculating R values: \n",
    "\n",
    "Using Figure R-4 by Wall et. al, we can find that the R-value for Vancouver, British Columbia is 850.\n",
    "\n",
    "Suppose we wanted the seasonal R value from January to May. Adding up the values we get 44%. Then $0.44*850 = 374$. Thus the R value for Vancouver from January to May is 374. "
   ]
  },
  {
   "cell_type": "markdown",
   "metadata": {},
   "source": [
    "**What is the difference between the R-factor in USLE and RUSLE?** \n",
    "\n",
    "The R-factor is generally the same between USLE and RUSLE. "
   ]
  },
  {
   "cell_type": "markdown",
   "metadata": {},
   "source": [
    "## K Factor \n",
    "\n",
    "The K-factor is based on soil texture, organic matter content, permeability, and other factors inherent to soil type (Renard et. al). \n",
    "Calculation is based on five parameters: percentage of silt plus very fine sand (0.05 to 0.1 mm), percentage sand greater than 0.1 mm, organic matter content, structure, permeability. \n",
    "\n",
    "$$ 100K=2.1M^{1.14}(10^{-4})(12-a)+(3.25)(b-2)+(2.5)(c-3) $$\n",
    "\n",
    "where:\n",
    "\n",
    "M = (percent silt+very fine sand)x(100 - percent clay)\n",
    "\n",
    "a = percent organic matter\n",
    "\n",
    "b = soil structure code used in soil classification\n",
    "\n",
    "c = profile permeability class\n",
    "\n",
    "A table of K estimations based on information obtained on approximately 1600 samples collected in Southern Ontario by Ontario Institute of Pedology surveyors is shown by Wall et. al. "
   ]
  },
  {
   "cell_type": "code",
   "execution_count": 3,
   "metadata": {},
   "outputs": [],
   "source": [
    "def k(M,a,b,c):\n",
    "    # M = (% silt + % very fine sand)*(100-%clay)\n",
    "    # a is the percentage of organic matter\n",
    "    # b is the structure code class of soil classification\n",
    "    # c is permeability class\n",
    "    return(1/100*(2.1*(M**1.14)*(10**(-4))*(12-a)+3.25*(b-2)+2.5*(c-3)))"
   ]
  },
  {
   "cell_type": "markdown",
   "metadata": {},
   "source": [
    "Determining K Factors: \n",
    "1. Use the equation above if there is information on: \n",
    "    - percent sand, very fine sand and clay\n",
    "    - percent organic matter\n",
    "    - structure of soil\n",
    "    - permeability\n",
    "\n",
    "2. Use nomogrpah (Figure K-1, Part 2 in Wall et. al)\n",
    "    - to obtain a K factor based on all parameters in method 1 or \n",
    "    - to approximiate a K factor, based on particle size percentages and organic matter"
   ]
  },
  {
   "cell_type": "markdown",
   "metadata": {},
   "source": [
    "Example calculating K Factor: \n",
    "\n",
    "The attributes of a particular loam are as follows: 30% sand (25% very fine sand, 5% other sand diameters), 40% silt, 30% clay, 2.8% organic matter, fine granular structure, slow to moderate permeability. "
   ]
  },
  {
   "cell_type": "markdown",
   "metadata": {},
   "source": [
    "1. Using nomograph in Figure K-1 in Wall et. al, \n",
    "K = 0.04\n",
    "\n",
    "2. If particle size distribution of the same soil was unknown but we could determine that the soil is a loam and probably contains more than 2% organic matter, then we can use Table K-3 to determine that we have fine sandy loam with organic material > 2%, K = 0.038. \n",
    "Likewise, we could be given the percentage of sand, silt, and clay and used Figure K-2 to find that this sample is clay loam with over 2% organic matter and find in Table K-3 that K = 0.037. "
   ]
  },
  {
   "cell_type": "markdown",
   "metadata": {},
   "source": [
    "3. Using the equation above: \n",
    "\n",
    "M = 4550, a = 2.8, b = 2, c = 4. \n",
    "\n",
    "Then K = 0.310851"
   ]
  },
  {
   "cell_type": "code",
   "execution_count": 4,
   "metadata": {},
   "outputs": [
    {
     "data": {
      "text/plain": [
       "0.31085126223336146"
      ]
     },
     "execution_count": 4,
     "metadata": {},
     "output_type": "execute_result"
    }
   ],
   "source": [
    "k(4550,2.8,2,4)"
   ]
  },
  {
   "cell_type": "markdown",
   "metadata": {},
   "source": [
    "**What is the difference between K-factor in USLE and RUSLE?** \n",
    "\n",
    "The K-factor remains the same between USLE and RUSLE but also accounts for seasonal changes such as freezing, thawing, soil moisture, and soil consolidation in RUSLE (Renard et. al). "
   ]
  },
  {
   "cell_type": "markdown",
   "metadata": {},
   "source": [
    "## LS Factor\n",
    "\n",
    "LS Factor accounts for effect of slope angle and length on erosion. It also adjusts the erosion prediction for a given slope length and slope angle to account for differences from conditions present at standard erosion monitoring plots. USLE was based on 22m long, 9% slopes. \n",
    "\n",
    "$$ LS = (0.065+0.0456(x)+0.006541(x)^2)(\\frac{y}{c})^{NN} $$\n",
    "\n",
    "where \n",
    "\n",
    "x = slope steepness in %\n",
    "\n",
    "y = slope length in m\n",
    "\n",
    "c = constant, 22.1 metric\n",
    "\n",
    "NN = 0.2 if x < 1, 0.3 if 1$\\leq$x<3, 0.4 if 3$\\leq$x<5, else 0.5\n",
    "\n",
    "For typical slope conditions, a 10% error in slope length results in a 5% error in computed soil loss (Renard et. al). Soil loss is much more sensitive to changes in slope steepness than errors in slope length. For example, in USLE, a 10% error in slope steepness will usually give about a 20% error in computer soil loss. RUSLE has a more linear slope steepness relationship than did the USLE. Improvements in the relationship for steep slopes mean that computed soil loss for slopes less than 20% are smilar in RUSLE and USLE, but on steep slopes, computed soil loss in RUSLE is just over half that predicted by USLE, whose relationship did not include data for steep slopes (Renard et. al). In addition, RUSLE makes more explicit the reliance of the length relationship on the susceptibility of the soil to rilling, which may be influenced by the slope steepness, soil characteristics, and management impacts."
   ]
  },
  {
   "cell_type": "code",
   "execution_count": 5,
   "metadata": {},
   "outputs": [],
   "source": [
    "def ls(x,y,NN):\n",
    "    # x is the slope steepness in % \n",
    "    # y is the slope length in m \n",
    "    # NN is 0.2 if x<1, 0.3 if 1<x<3, 0.4 if 3<x<5, 0.5 else\n",
    "    return((0.065+0.0456*x+0.006541*x**2)*(y/22.1)**NN)"
   ]
  },
  {
   "cell_type": "markdown",
   "metadata": {},
   "source": [
    "The Revised Universal Soil Loss Equation has a different equation for calculating LS. \n",
    "\n",
    "$$L = \\left(\\frac{\\lambda}{22.1}\\right)^m$$ where L measures the slope length in meters, $\\lambda$ is the horizontal projection and m can be calculated by $m = \\frac{\\beta}{1+\\beta}$, where $\\beta$ is related to the ratio of rill erosion caused by overland flow to interril erosion. "
   ]
  },
  {
   "cell_type": "code",
   "execution_count": 6,
   "metadata": {},
   "outputs": [],
   "source": [
    "def L(llambda,m):\n",
    "    # llambda is the horizontal projection\n",
    "    return((llambda/22.1)**m)"
   ]
  },
  {
   "cell_type": "code",
   "execution_count": 7,
   "metadata": {},
   "outputs": [],
   "source": [
    "def m(beta):\n",
    "    return (beta/(1+beta))"
   ]
  },
  {
   "cell_type": "markdown",
   "metadata": {},
   "source": [
    "$$\\beta = \\left(\\frac{\\frac{\\sin\\theta}{0.0896}}{3(sin\\theta)^{0.8}+0.56}\\right)$$, with $\\theta$ being the slope angle."
   ]
  },
  {
   "cell_type": "code",
   "execution_count": 8,
   "metadata": {},
   "outputs": [],
   "source": [
    "def beta(theta):\n",
    "    # theta is the slope angle\n",
    "    return((np.sin(theta)/0.0896)/(3*np.sin(theta)**(0.8)+0.56))"
   ]
  },
  {
   "cell_type": "markdown",
   "metadata": {},
   "source": [
    "When soil is highly susceptible to rilling, it is recommended that $\\beta$ be calculated as $2\\beta.$ \n",
    "\n",
    "When conditions favour more interrill and less rill erosion, m should be decreased by $\\frac{\\beta}{2}$. "
   ]
  },
  {
   "cell_type": "markdown",
   "metadata": {},
   "source": [
    "$$ S = 10.8\\sin\\theta+0.03 \\space \\text{if the slope is less than 9%} $$\n",
    "\n",
    "$$ S = 16.8\\sin\\theta-0.5 \\space \\text{if the slope is greater than 9%} $$\n",
    "\n",
    "Slopes less than 4.6m in length should use the following formula: \n",
    "\n",
    "$$ S = 3(\\sin\\theta)^{0.8}+0.56$$\n",
    "\n",
    "When managing freshly tilled thawing soil: \n",
    "\n",
    "$$ S = 10.8\\sin\\theta + 0.03 \\space \\text{if slope if less than 9%} $$\n",
    "\n",
    "$$ S = \\left(\\frac{\\sin\\theta}{0.0896}\\right)^{0.6} \\space \\text{if slope is greater than 9%} $$ "
   ]
  },
  {
   "cell_type": "markdown",
   "metadata": {},
   "source": [
    "Convex slopes will have a greater effective LS factor (ie. high erosion estimate) than a uniform slope with the same average gradient. Conversely, a concave slope will generally have a lower effective erosion rate than a uniform slope of the same average gradient. \n",
    "\n",
    "Soil loss increases more with steepness than with slope length. "
   ]
  },
  {
   "cell_type": "markdown",
   "metadata": {},
   "source": [
    "## C Factor\n",
    "\n",
    "C Factor is used to determine the relative effectiveness of soil and crop management systems in terms of preventing or reducing soil loss. \n",
    "\n",
    "When using the USLE, C Factor is determined by selecting crop type and tillage method that corresponds to field and multiplying these two factors together. \n",
    "\n",
    "A revised USLE equation has a different computation for C Factor: \n",
    "\n",
    "$$ C = (SLR)*(EI)$$\n",
    "where\n",
    "\n",
    "SLR = soil loss ratio (ratio of soil loss under specific practice during crop stage to soil loss on a similar field of bare soil)\n",
    "\n",
    "EI = erosivity index \n",
    "\n",
    "The SLR Factor takes into account the relative and compounded impact of crop canopy cover, crop residues, tillage practices and residual soil quality for a particular crop. SLRs will vary throughout the year and for different cropstages. SLR factors have been development for most crops and are integrated into the C Factors for the regions of Canada. \n",
    "\n",
    "EI factor is the proportion of annual erosive rainfall occurring during each cropstage. Generally, the greatest portion of erosive rains fall during the middle of the growing season. "
   ]
  },
  {
   "cell_type": "markdown",
   "metadata": {},
   "source": [
    "**What is the difference between C Factor in USLE and C Factor in a Revised USLE?**"
   ]
  },
  {
   "cell_type": "markdown",
   "metadata": {},
   "source": [
    "C Values were reevaluated and revised in RUSLE to reflect additional information on the effects of cover and management on erosion. The outcome of these calculations however remain the same. The RUSLE SLR (ratio comparing soil losses under specific practices to bare soil conditions) is still determined for a specific period during the year. In USLE calculations, this period corresponded to variable-lenght cropstage periods, reflecting a crop's development. RUSLE divides the year into 15 day periods. "
   ]
  },
  {
   "cell_type": "markdown",
   "metadata": {},
   "source": [
    "## P Factor\n",
    "\n",
    "By definition the P Factor is the ratio of soil loss with a specific support practice to the corresponding loss with up and down slope cultivation and planning. In the absence of any support practice P, assumes unity and equals to 1 in USLE.\n",
    "\n",
    "The lower the P value, the more effectively the practice helps to cause deposition to occur close to the source. \n",
    "\n",
    "General P Values: \n",
    "\n",
    "No support practice = 1 \n",
    "\n",
    "Cross slope farming = 0.75\n",
    "\n",
    "Contour farming (3-8% slopes) = 0.5\n",
    "\n",
    "Strip cropping, cross slope (3-8% slopes) = 0.38 \n",
    "\n",
    "Strip cropping, on contour (3-8% slopes) = 0.25"
   ]
  },
  {
   "cell_type": "markdown",
   "metadata": {},
   "source": [
    "**What is the difference between the P-factor in USLE and RUSLE?** \n",
    "\n",
    "In USLE, the P-factor is based on installation practices that slow runoff and reduce soil movement. P-factor values change according to slope ranges with distinction for various ridge heights. In RUSLE, P-values are based on hydrologic soil groups, slope, row grade, ridge height, and 10-year single storm erosion index value. RUSLE computes the effect of stripcropping based on the transport capacity of flow in dense strips relative to the amount of sediment reaching the strip (Renard et. al). "
   ]
  },
  {
   "cell_type": "markdown",
   "metadata": {},
   "source": [
    "## Soil Loss Tolerance Rates\n",
    "\n",
    "Very Low Soil Erosion: A < 6.7 hectare/year (3 tons/acre/year)\n",
    "\n",
    "Low Soil Erosion: 6.7 hectare/year (3 tons/acre/year) < A < 11.2 hectare/year (5 tons/acre/year)\n",
    "\n",
    "Moderate Soil Erosion: 11.2 hectare/year (5) < A < 22.4 hectare/year (10)\n",
    "\n",
    "High Soil Erosion: 22.4 hectare/year (10) < A < 22.6 hectare/year (15) \n",
    "\n",
    "Severe Soil Erosion: A > 33.6 hectare/year (15)"
   ]
  },
  {
   "cell_type": "markdown",
   "metadata": {},
   "source": [
    "## Example 1: \n",
    "\n"
   ]
  },
  {
   "cell_type": "markdown",
   "metadata": {},
   "source": [
    "Example from [Ministry of Agriculture, Food and Rural Affairs, \"Universal Soil Loss Equation (USLE)\", 2015. Accessed 21-Feb-2019.](http://www.omafra.gov.on.ca/english/engineer/facts/12-051.htm) \n",
    "\n",
    "Sample Field is Middlesex County, contains fine sandy loam soil with average organic matter content. The sample field is 244m long with 6% slope. The sample field was plowed in the spring and grain corn was planted. Cross-slope farming was used. "
   ]
  },
  {
   "cell_type": "markdown",
   "metadata": {},
   "source": [
    "R = 100\n",
    "\n",
    "K = 0.4\n",
    "\n",
    "LS = $(0.065+0.0456(6)+0.006541(6)^2)(\\frac{244}{22.1})^{0.5}$ = 1.90752\n",
    "\n",
    "C = $0.4*0.9 = 0.36 $\n",
    "\n",
    "P = 0.75"
   ]
  },
  {
   "cell_type": "code",
   "execution_count": 9,
   "metadata": {},
   "outputs": [
    {
     "data": {
      "text/plain": [
       "20.601216"
      ]
     },
     "execution_count": 9,
     "metadata": {},
     "output_type": "execute_result"
    }
   ],
   "source": [
    "A(100,0.4,1.90752,0.36,0.75)"
   ]
  },
  {
   "cell_type": "markdown",
   "metadata": {},
   "source": [
    "## Example 2: \n",
    "\n",
    "Using Vancouver at the Sample, contains loamy sand with average organic matter content, sample field is 300m long with 5% slope, growing the crop corn for grain with a conventional till, assume unity. "
   ]
  },
  {
   "cell_type": "markdown",
   "metadata": {},
   "source": [
    "R = $850/17.02 = 49.9412456$\n",
    "\n",
    "K = 0.005 by Table K-3 in Wall et. al\n",
    "\n",
    "LS = $(0.065+0.0456(5)+0.006541(5)^2)(\\frac{300}{22.1})^{0.5} = 1.68201$\n",
    "\n",
    "C = 0.31\n",
    "\n",
    "P = 1"
   ]
  },
  {
   "cell_type": "code",
   "execution_count": 10,
   "metadata": {},
   "outputs": [
    {
     "data": {
      "text/plain": [
       "0.1302025954930668"
      ]
     },
     "execution_count": 10,
     "metadata": {},
     "output_type": "execute_result"
    }
   ],
   "source": [
    "A(49.9412456,0.005,1.68201,0.31,1)"
   ]
  },
  {
   "cell_type": "markdown",
   "metadata": {},
   "source": [
    "## Bibliography\n",
    "\n",
    "[Ministry of Agriculture, Food and Rural Affairs, \"Universal Soil Loss Equation (USLE)\", 2015. Accessed 21-Feb-2019.](http://www.omafra.gov.on.ca/english/engineer/facts/12-051.htm)\n",
    "\n",
    "[Wall G.J., D.R. Coote, E.A. Pringle and I.J. Shelton (editors). 2002. RUSLEFAC - Revised Universal Soil Loss Equation for Application in Canada: A Handbook for Estimating Soil Loss from Water Erosion in Canada. Research Brand, Agriculture and Agri-Food Canada. Ottawa. Contribution No. AAFC/AAC2244E.117 pp.](http://sis.agr.gc.ca/cansis/publications/manuals/2002-92/rusle-can.pdf)\n",
    "\n",
    "[Renard K.G., Yoder D.C., Lightle D.T., Dabney S.M., \"Universal Soil Loss Equation and Revised Universal Soil Loss Equation\", Handbook of Erosion Modelling 1st ed. pp. 137-167, 2011.](https://www.tucson.ars.ag.gov/unit/publications/PDFfiles/2122.pdf)\n",
    "\n",
    "[Renard K.G., Foster G.R., Yoder D.C., McCool D.K., \"RUSLE revisited: Status, questions, answers, and the future,\" J. Soil Water Conserv. 49(3):213-220. 1994.](http://cnrfiles.uwsp.edu/turyk/Database/Development/MJB/private/Thesis/JournalArticles/rusle.pdf)"
   ]
  }
 ],
 "metadata": {
  "kernelspec": {
   "display_name": "Python 3",
   "language": "python",
   "name": "python3"
  },
  "language_info": {
   "codemirror_mode": {
    "name": "ipython",
    "version": 3
   },
   "file_extension": ".py",
   "mimetype": "text/x-python",
   "name": "python",
   "nbconvert_exporter": "python",
   "pygments_lexer": "ipython3",
   "version": "3.6.8"
  }
 },
 "nbformat": 4,
 "nbformat_minor": 2
}
