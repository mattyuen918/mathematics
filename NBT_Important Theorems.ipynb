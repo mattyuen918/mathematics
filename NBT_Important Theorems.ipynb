{
 "cells": [
  {
   "cell_type": "markdown",
   "metadata": {},
   "source": [
    "# Important Theorems in Introduction Number Theory (MATH 312)"
   ]
  },
  {
   "cell_type": "markdown",
   "metadata": {},
   "source": [
    "### The Euclidian Algorithm \n",
    "\n",
    "Let a,b be positive integers. By divisibility rules, $\\exists$ q,R integers such that $a = bq + R_1$ and $0\\leq R_1 < b$. If $R_1 > 0 \\exists q_2,R_2$ integers such that $b = R_1q_2 + R_2, 0 \\leq R_2 < R_1$. This repeats. "
   ]
  },
  {
   "cell_type": "markdown",
   "metadata": {},
   "source": [
    "### Linear Diophantine (2 Variable Case) \n",
    "\n",
    "Let a,b,c be integers with a,b not zero. Then the equation $ax+by=c$ has a solution if \n",
    "\n",
    "- (a,b)|c\n",
    "\n",
    "- $d = (a,b) $ and d|c. Then there is a solution denoted $(x_0,y_0)$ and all solutions are given by $x = x_0\\frac{c}{d} + \\frac{b}{d}n$ and $y = y_0\\frac{c}{d} - \\frac{a}{d}n$"
   ]
  },
  {
   "cell_type": "markdown",
   "metadata": {},
   "source": [
    "### Chinese Remainder Theorem (CRT) \n",
    "\n",
    "Let $N_1, N_2, N_3, ... , N_k$ be positive integers and pairwise coprime $(N_1,N_2) = 1$. Also let $b_1,b_2, ... , b_k$ be integers. Consider the system of equations: \n",
    "\n",
    "$$ x \\equiv b_1 (mod N_1) $$\n",
    "$$\n",
    "x \\equiv b_2 (mod N_2) \n",
    "$$\n",
    "$$\\vdots$$\n",
    "$$\n",
    "x \\equiv b_k (mod N_k) $$ "
   ]
  },
  {
   "cell_type": "markdown",
   "metadata": {},
   "source": [
    "There is a unique solution (mod $N_1*N_2*...*N_k)$ "
   ]
  },
  {
   "cell_type": "markdown",
   "metadata": {},
   "source": [
    "### Wilson's Theorem \n",
    "\n",
    "Let p be prime, then $(p-1)! \\equiv$ -1 (mod $p)$\n",
    "\n",
    "Lemma: Let p be prime and a an integer such that $p\\nmid$ a, then $a\\equiv a^{-1}$ (mod $p$) $\\leftrightarrow a \\equiv 1$ (mod $p$). "
   ]
  },
  {
   "cell_type": "markdown",
   "metadata": {},
   "source": [
    "### Fermat's Little Theorem \n",
    "\n",
    "Let p be prime, and a be an integer such that (a,p)=1 $\\leftrightarrow p\\nmid a$. Then $a^{p-1} \\equiv 1$ (mod $p$). \n",
    "\n",
    "Corollary: $a^p \\equiv a$ (mod $p$) $\\forall$ a "
   ]
  },
  {
   "cell_type": "markdown",
   "metadata": {},
   "source": [
    "### Fermat's Test \n",
    "\n",
    "* Let 1 < b < N. If $b^{N-1} \\not\\equiv 1$ (mod $N$), then N is composite. \n",
    "\n",
    "Example: $2^{90} \\equiv 64 (mod 91)$. Since $64\\not\\equiv 1 (mod 91$), then 91 is composite by Fermat's Test. \n",
    "\n",
    "* If N > 0 is composite and $b^{N-1} \\equiv 1$ (mod $N$) for some  b $\\in [1,N]$, then we say that N is a ** pseudoprime in base b**. \n",
    "\n",
    "Example: $2^{340} \\equiv 1 (mod 341)$, but 341 = (11)(31), so 341 is a pseudoprime in base 2. \n",
    "\n",
    "* We call an integer N > 0 a ** Carmichael Number ** if it is a pseudoprime in all bases b such that (b,N) = 1. "
   ]
  },
  {
   "cell_type": "markdown",
   "metadata": {},
   "source": [
    "### Korselt's Theorem \n",
    "\n",
    "A composite N > 2 is a Carmichael Number if and only if \n",
    "\n",
    "1. N is squarefree (ie. N = $p_1*p_2*...*p_k$)\n",
    "2. If a prime p|N then p-1|N-1"
   ]
  },
  {
   "cell_type": "markdown",
   "metadata": {},
   "source": [
    "### Miller's Test \n",
    "\n",
    "Let N > 0 and odd. Suppose N is pseudoprime in base b $\\geq$ 2 (ie. $b^{N-1} \\equiv 1$ (mod $N$)). \n",
    "\n",
    "Let $x = b^{(N-1)/2}$, we have $x^2 = b^{N-1} \\equiv 1$ (mod $N$). So if N is prime, then $x \\equiv +/- 1 $(mod $N$), else $x\\not\\equiv +/- 1$ (mod $N$) if N is composite. \n",
    "\n",
    "If $x\\equiv 1 (mod N)$ and $2^x$|N-1, we repeat with $y = b^{(N-1)/2}$ and $y^2 = b^{N-1} \\equiv 1 (mod N)$. \n",
    "\n",
    "If we do not conclude, we can keep repeating. "
   ]
  },
  {
   "cell_type": "markdown",
   "metadata": {},
   "source": [
    "### Euler Phi Function \n",
    "\n",
    "Let N > 0. The Euler Phi Function is given by $\\phi(N)$, which counts the number of positive integers relatively prime to N. \n",
    "\n",
    "** Euler's Theorem** : Let a,m be integers such that (a,m) = 1. Then $a^{\\phi(m)} \\equiv 1 (mod m)$ \n",
    "\n",
    "Corollary: Let p be prime, then $\\phi(p) \\equiv p-1$ and $a^{p-1} \\equiv 1 (mod p)$. \n",
    "\n",
    "Formula: \n",
    "\n",
    "$$ \\prod_{j=1}^k p_j^{a_j -1}(p_j - 1) $$ "
   ]
  },
  {
   "cell_type": "markdown",
   "metadata": {},
   "source": [
    "$\\tau(n)$ = number of positive divisors of n \n",
    "\n",
    "$$ \\prod_{i=1}^k (a_k+1)$$ \n",
    "\n",
    "$\\sigma(n)$ = sum of positive divisors of n\n",
    "\n",
    "$$ \\prod_{i=1}^k \\frac{p_i^{a_i+1} -1}{p_i -1} $$ "
   ]
  },
  {
   "cell_type": "markdown",
   "metadata": {},
   "source": [
    "A number is called ** perfect ** if $\\sigma(n) = 2n$\n",
    "\n",
    "Example: n = 6. Then it has divisors 1,2,3,6 and the sum of the divisors is 12. "
   ]
  },
  {
   "cell_type": "markdown",
   "metadata": {},
   "source": [
    "### Primitive Roots \n",
    "\n",
    "** order **:Let a,M be integers such that M > 0 and (a,M)=1. Then the ** order of a mod M ** denoted $ord_Ma$, is the least positive integer N such that $a^N \\equiv 1 ($mod $M$). \n",
    "\n",
    "An integer coprime to M > 0 is called a ** Primitive Root mod M ** if $ord_Ma = \\phi(M)$. \n",
    "\n",
    "#### Theorem: Let m be a positive integer. Suppose m = kn, where (k,n) = 1 and $\\phi(k), \\space \\phi(n)$ are even. Then $\\forall a$ integers coprime to m (a,m) = 1, we have $a^{\\frac{\\phi(m)}{2}} \\equiv 1 $ (mod $m$). "
   ]
  },
  {
   "cell_type": "markdown",
   "metadata": {},
   "source": [
    "### Primitive Root Theorem \n",
    "\n",
    "Let N > 0, then there are primitive roots mod N exactly in the previous cases \n",
    "\n",
    "* $a^{2^{d-2}} \\equiv 1$ (mod $M$) for all a integers and $d\\geq 3$ \n",
    "* There are no primitive roots mod M \n",
    "\n",
    "#### Theorem: Let p be prime. Then there are primitive roots mod p. \n",
    "\n",
    "There are $\\phi(p-1)$ primitive roots mod p. "
   ]
  },
  {
   "cell_type": "markdown",
   "metadata": {},
   "source": [
    "Finding elements of $a^i$ of order d: \n",
    "\n",
    "$$ ORD_pa^i = \\frac{ORD_pa^i}{(ORD_pa^i,1)} = d = \\frac{d}{(d,i)} \\leftrightarrow (d,i) = 1 $$ \n",
    "\n",
    "$\\rightarrow$, there are $\\phi(d)$ choices for i. \n",
    "\n",
    "\n",
    "#### Theorem: Let n be a primitive root, and a,k be integers with (a,n) = 1. Then $x^k \\equiv a$ (mod $n$), we write $d = (k,\\phi(n))$. Then: \n",
    "\n",
    "- if $a^{\\frac{\\phi(n)}{d}} \\not\\equiv 1$ (mod $n$), then there are no solutions \n",
    "- if $a^{\\frac{\\phi(n)}{d}} \\equiv 1$ (mod $n$), then there are exactly d non-congruent solutions mod n "
   ]
  },
  {
   "cell_type": "markdown",
   "metadata": {},
   "source": [
    "### Index Arithmetic (Discrete Logs) \n",
    "\n",
    "Fix R a PR mod N for a integers (a,N)=1, then ** the index of a with respect to R** is the least positive integer x such that $R^x \\equiv a$ (mod $N$). This is denoted as $IND_Ra$\n",
    "\n",
    "1. $IND_R1 \\equiv 0 \\space $(mod $\\phi(N))$\n",
    "2. $IND_RR \\equiv 1 \\space $(mod $\\phi(N))$ \n",
    "3. $IND_Rab \\equiv IND_Ra + IND_Rb \\space $(mod $\\phi(N))$ \n",
    "4. $IND_Ra^d \\equiv dIND_Ra \\space$ (mod $\\phi(N))$ "
   ]
  },
  {
   "cell_type": "markdown",
   "metadata": {},
   "source": [
    "### Cryptography \n",
    "\n",
    "E(x) is encrypter and D(x) is decrypter \n",
    "\n",
    "#### 1. Shift Cipher \n",
    "\n",
    "$E(x) = x+b \\space $(mod 26) and $D(x) = x-b$ (mod 26)\n",
    "\n",
    "#### 2. Affine Cipher \n",
    "\n",
    "$E(x) = ax+b $ (mod n), and $D(x) = cy+d$ (mod n), where $ c\\equiv a^{-1}$ (mod n) and $d \\equiv -a^{-1}b$ (mod n). \n",
    "\n",
    "Affine ciphers can be broken by frequency analysis , most common letters are E (4) and T (19). \n",
    "\n",
    "#### 3. Exponential Cipher \n",
    "\n",
    "$E(x) = x^e $ (mod p) and $D(x) = y^d $(mod p), where $d\\equiv e^{-1}$ (mod p-1). \n",
    "\n",
    "#### 4. RSA Cipher \n",
    "\n",
    "1 < e < (p-1)(q-1) and (e,(p-1)(q-1)) = 1 \n",
    "\n",
    "Public Encyrption Key: (n,e): $E(x) = x^e $ (mod n) \n",
    "\n",
    "Private Encryption Key: (n,d): $D(x) = x^d$ (mod n) "
   ]
  },
  {
   "cell_type": "markdown",
   "metadata": {},
   "source": [
    "### Pythagorean Triple: \n",
    "$x^2 +y^2 = z^2 $. \n",
    "\n",
    "The positive integers x,y,z form a Pythagorean Triple with even y if and only if there are integers m,n > 0 such that: \n",
    "\n",
    "1. (m,n) = 1 \n",
    "2. m > n \n",
    "3. m and n have different parity, that is $m\\not\\equiv n$ (mod 2) \n",
    "4. the values of x,y,z are given by: \n",
    "$$ x = m^2-n^2, \\space y = 2mn, \\space z = m^2 + n^2 $$ \n",
    "\n",
    "\n",
    "We call a pythagorean triple primitive if (x,y,z) = 1. Then (x,y) = (x,z) = (y,z) = 1. "
   ]
  },
  {
   "cell_type": "markdown",
   "metadata": {},
   "source": [
    "### Fermat's Last Theorem \n",
    "\n",
    "The equation $x^n + y^n = z^n $ has no solutions for $n \\geq 3$ such that xyz $\\ne 0$\n",
    "\n",
    "To prove, it is enough to do it for n = 4 and p = $p_1$, an odd prime. "
   ]
  }
 ],
 "metadata": {
  "kernelspec": {
   "display_name": "Python 3",
   "language": "python",
   "name": "python3"
  },
  "language_info": {
   "codemirror_mode": {
    "name": "ipython",
    "version": 3
   },
   "file_extension": ".py",
   "mimetype": "text/x-python",
   "name": "python",
   "nbconvert_exporter": "python",
   "pygments_lexer": "ipython3",
   "version": "3.6.1"
  }
 },
 "nbformat": 4,
 "nbformat_minor": 2
}
