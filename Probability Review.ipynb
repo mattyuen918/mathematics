{
 "cells": [
  {
   "cell_type": "markdown",
   "metadata": {},
   "source": [
    "# Probability Review\n",
    "\n",
    "    1.1 - Probability Distribution Function (PDF)\n",
    "    1.2 - Cumulative Probability Distribution\n",
    "    2.1 - Expected Value of a Discrete Random Variable\n",
    "    2.2 - Expected Value of a Continuous Random Variable\n",
    "    3.1 - Variance\n",
    "    3.2 - Standard Deviation \n",
    "    4.1 - Covariance\n",
    "    4.2 - Correlation Coefficient \n",
    "    5.1 - Conditional Distributions\n",
    "    5.2 - Conditional Expectations "
   ]
  },
  {
   "cell_type": "markdown",
   "metadata": {},
   "source": [
    "## 1.1 - Probability Distribution Function (PDF)\n",
    "\n",
    "- Each outcome is associated with a probability of occurrence: $$P(X = x)$$\n",
    "- $0 \\leq P(x) \\leq 1$ \n",
    "- $\\sum_xP(x) = 1$ \n"
   ]
  },
  {
   "cell_type": "markdown",
   "metadata": {},
   "source": [
    "## 1.2 - Cumulative Probability Distribution \n",
    "$$ F(x_0) = P(X\\leq x_0)$$\n",
    "- The probability that X does not exceed the value $x_0$ as a function of $x_0$\n",
    "- $0\\leq F(x_0) \\leq 1$ for every number $x_0$ \n",
    "- if $x_0$ and $x_1$ are two numbers with $x_0 < x_1$, then $F(x_0) \\leq F(x_1)$\n"
   ]
  },
  {
   "cell_type": "markdown",
   "metadata": {},
   "source": [
    "## 2.1 - Expected Value of a Discrete Random Variable \n",
    "\n",
    "$$E(X) = \\mu = \\sum_x P(X = x)*x $$ "
   ]
  },
  {
   "cell_type": "markdown",
   "metadata": {},
   "source": [
    "## 2.2 - Expected Value of a Continuous Random Variable\n",
    "$$ E(X) = \\mu = \\int_{-\\infty}^{\\infty} xf(x)dx $$ "
   ]
  },
  {
   "cell_type": "markdown",
   "metadata": {},
   "source": [
    "### Properties of Expected Values\n",
    "\n",
    "1. $ E(g(X)) = \\sum_x g(x)f(x)$\n",
    "2. Expected Value of a constant is constant\n",
    "    - E(y) = y, where y is some constant \n",
    "3. $ E(a+bX) = E(a) + E(bX) = a + bE(X) $ \n",
    "4. $ E(\\sum_{i=1}^n a_iX_i) = E(a_1X_1+a_2X_2+a_3X_3+\\cdots+a_nX_n) = E(a_1x_1)+E(a_2X_2)+\\cdots+E(a_nX_n) = \\sum_{i=1}^n a_iE(X_i)$"
   ]
  },
  {
   "cell_type": "markdown",
   "metadata": {},
   "source": [
    "## 3.1 - Variance\n",
    "- A measure of how much a random variable deviates from its expected value\n",
    "$$ \\sigma^2(X) = E[(X-E(X))^2] = E[(X-\\mu)^2] = \\sum_x(x-\\mu)^2f(x)$$"
   ]
  },
  {
   "cell_type": "markdown",
   "metadata": {},
   "source": [
    "## 3.2 - Standard Deviation \n",
    "- Square root of variance "
   ]
  },
  {
   "cell_type": "markdown",
   "metadata": {},
   "source": [
    "### Properties of Variance and SD\n",
    "1. $\\sigma^2(X) = 0$ iff E(X) = constant \n",
    "    - Variance of constant is zero\n",
    "    - Standard Deviation is also zero\n",
    "2. $\\sigma^2(a+bX) = \\sigma^2(a) + \\sigma^2(bX) = 0 + E[(bX-b\\mu)^2] = E[b^2(X-\\mu)^2] = b^2E((X-\\mu)^2) = b^2\\sigma^2(X)$\n",
    "3. $\\sigma(a+bX) = |b|\\sigma(X)$ "
   ]
  },
  {
   "cell_type": "markdown",
   "metadata": {},
   "source": [
    "## 4.1 - Covariance \n",
    "- Finding relationship between two variables\n",
    "$$ Cov(X,Y) = \\sum_x\\sum_y(x-E(X))(y-E(Y))f_{x,y}(x,y) = \\sum_x\\sum_y(x-\\mu_x)(y-\\mu_y)f_{x,y}(x,y)$$ "
   ]
  },
  {
   "cell_type": "markdown",
   "metadata": {},
   "source": [
    "## 4.2 - Correlation coefficient\n",
    "$$ \\rho_{X,Y} = \\frac{Cov(X,Y)}{\\sigma(X)\\sigma(Y)}$$ "
   ]
  },
  {
   "cell_type": "markdown",
   "metadata": {},
   "source": [
    "## 5.1 - Conditional Distribution \n",
    "$$ P(Y=y|X=x) = f_{y|x}(y|x) = \\frac{f_{X,Y}(x,y)}{f_x(x)}$$ or \n",
    "$$ P(X=x|Y=y) = f_{x|y}(x|y) = \\frac{f_{X,Y}(x,y)}{f_y(y)}$$ "
   ]
  },
  {
   "cell_type": "markdown",
   "metadata": {},
   "source": [
    "## 5.2 Conditional Expectations \n",
    "1. E(c(X)|X) = c(X) for any function c(X)\n",
    "2. E(a(X)Y + b(X) | X) = E(a(X)Y|X) + E(b(X)|X) = a(X)E(Y|X)+ b(X) \n",
    "3. If X,Y independent, then E(Y|X) = E(Y)\n",
    "    - Expected value of Y given X doesn't depend on X\n",
    "    - Cov(X,Y) = 0\n",
    "4. E(E(Y|X)) = E(Y) by Law of Iterated Expectations "
   ]
  }
 ],
 "metadata": {
  "kernelspec": {
   "display_name": "Python 3",
   "language": "python",
   "name": "python3"
  },
  "language_info": {
   "codemirror_mode": {
    "name": "ipython",
    "version": 3
   },
   "file_extension": ".py",
   "mimetype": "text/x-python",
   "name": "python",
   "nbconvert_exporter": "python",
   "pygments_lexer": "ipython3",
   "version": "3.6.1"
  }
 },
 "nbformat": 4,
 "nbformat_minor": 2
}
