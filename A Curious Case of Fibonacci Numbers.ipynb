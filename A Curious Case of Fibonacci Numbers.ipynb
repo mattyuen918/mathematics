{
 "cells": [
  {
   "cell_type": "markdown",
   "metadata": {},
   "source": [
    "# A Curious Case of Fibonacci Numbers"
   ]
  },
  {
   "cell_type": "code",
   "execution_count": 26,
   "metadata": {
    "collapsed": true
   },
   "outputs": [],
   "source": [
    "import numpy as np \n",
    "import math"
   ]
  },
  {
   "cell_type": "markdown",
   "metadata": {},
   "source": [
    "For any whole number n from 0 to 8, we can compute $\\sqrt{e^n}$ and round up. This gives the [Fibonacci Numbers](https://en.wikipedia.org/wiki/Fibonacci_number) 1, 2, 3, 5, 8, 13, 21, 34, 55. "
   ]
  },
  {
   "cell_type": "markdown",
   "metadata": {},
   "source": [
    "First let's write out the code for the Fibonacci Numbers: \n",
    "\n",
    "$$ F_n = 0 \\space \\text{if} \\space n = 0 $$ \n",
    "\n",
    "$$ F_n = 1 \\space \\text{if} \\space n = 1 $$\n",
    "\n",
    "$$ F_n = F_{n-1} + F_{n-2} \\space \\text{for} \\space n > 1 $$ "
   ]
  },
  {
   "cell_type": "code",
   "execution_count": 19,
   "metadata": {},
   "outputs": [
    {
     "name": "stdout",
     "output_type": "stream",
     "text": [
      "0\n",
      "1\n",
      "1\n",
      "2\n",
      "3\n",
      "5\n",
      "8\n",
      "13\n",
      "21\n",
      "34\n",
      "55\n"
     ]
    }
   ],
   "source": [
    "def F(n):\n",
    "    if n == 0: return 0 \n",
    "    if n == 1: return 1\n",
    "    else:\n",
    "        return F(n-1)+F(n-2)\n",
    "\n",
    "# List the first 10 Fibonacci Numbers\n",
    "for n in range(0,11):\n",
    "    print(F(n))"
   ]
  },
  {
   "cell_type": "code",
   "execution_count": 27,
   "metadata": {
    "collapsed": true
   },
   "outputs": [],
   "source": [
    "def curious(n):\n",
    "    return math.ceil(np.exp(n)**0.5) # returns sqrt(e^n) rounded up "
   ]
  },
  {
   "cell_type": "code",
   "execution_count": 30,
   "metadata": {},
   "outputs": [
    {
     "name": "stdout",
     "output_type": "stream",
     "text": [
      "1\n",
      "2\n",
      "3\n",
      "5\n",
      "8\n",
      "13\n",
      "21\n",
      "34\n",
      "55\n"
     ]
    }
   ],
   "source": [
    "for n in range(0,9):\n",
    "    print(curious(n))"
   ]
  }
 ],
 "metadata": {
  "kernelspec": {
   "display_name": "Python 3",
   "language": "python",
   "name": "python3"
  },
  "language_info": {
   "codemirror_mode": {
    "name": "ipython",
    "version": 3
   },
   "file_extension": ".py",
   "mimetype": "text/x-python",
   "name": "python",
   "nbconvert_exporter": "python",
   "pygments_lexer": "ipython3",
   "version": "3.6.1"
  }
 },
 "nbformat": 4,
 "nbformat_minor": 2
}
