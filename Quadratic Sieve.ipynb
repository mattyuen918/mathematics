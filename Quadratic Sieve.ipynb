{
 "cells": [
  {
   "cell_type": "code",
   "execution_count": 2,
   "metadata": {
    "collapsed": true
   },
   "outputs": [],
   "source": [
    "def prime_factors(n):\n",
    "    i = 2\n",
    "    factors = []\n",
    "    while i * i <= n:\n",
    "        if n % i:\n",
    "            i += 1\n",
    "        else:\n",
    "            n //= i\n",
    "            factors.append(i)\n",
    "    if n > 1:\n",
    "        factors.append(n)\n",
    "    return factors"
   ]
  },
  {
   "cell_type": "markdown",
   "metadata": {},
   "source": [
    "For each of the following integers: \n",
    "\n",
    "i) Determine whether it is prime or composite\n",
    "\n",
    "ii) If the integer is composite, factor it using the quadratic sieve method \n",
    "\n",
    "In each case, choose your factor base such that it contains 2 and the first 10 odd primes $p$ with $\\frac{n}{p} = 1$. Choose the value B which contains the sieving interval large enough that one finds at least 12 values of $x$ for which $x^2 - n $ factors completely over the factor base"
   ]
  },
  {
   "cell_type": "markdown",
   "metadata": {},
   "source": [
    "## Question 1b"
   ]
  },
  {
   "cell_type": "code",
   "execution_count": 19,
   "metadata": {
    "scrolled": true
   },
   "outputs": [
    {
     "name": "stdout",
     "output_type": "stream",
     "text": [
      "-5019\n",
      "-4678\n",
      "-4335\n",
      "-3990\n",
      "-3643\n",
      "-3294\n",
      "-2943\n",
      "-2590\n",
      "-2235\n",
      "-1878\n",
      "-1519\n",
      "-1158\n",
      "-795\n",
      "-430\n",
      "-63\n",
      "306\n",
      "677\n",
      "1050\n",
      "1425\n",
      "1802\n",
      "2181\n",
      "2562\n",
      "2945\n",
      "3330\n",
      "3717\n",
      "4106\n",
      "4497\n",
      "4890\n",
      "5285\n",
      "5682\n",
      "6081\n",
      "6482\n",
      "6885\n",
      "7290\n",
      "7697\n",
      "8106\n",
      "8517\n",
      "8930\n",
      "9345\n",
      "9762\n"
     ]
    }
   ],
   "source": [
    "n = 33919\n",
    "for x in range(170,210):\n",
    "    print(x**2-n)"
   ]
  },
  {
   "cell_type": "code",
   "execution_count": 18,
   "metadata": {
    "scrolled": true
   },
   "outputs": [
    {
     "name": "stdout",
     "output_type": "stream",
     "text": [
      "[3, 7, 239]\n",
      "[2, 2339]\n",
      "[3, 5, 17, 17]\n",
      "[2, 3, 5, 7, 19]\n",
      "[3643]\n",
      "[2, 3, 3, 3, 61]\n",
      "[3, 3, 3, 109]\n",
      "[2, 5, 7, 37]\n",
      "[3, 5, 149]\n",
      "[2, 3, 313]\n",
      "[7, 7, 31]\n",
      "[2, 3, 193]\n",
      "[3, 5, 53]\n",
      "[2, 5, 43]\n",
      "[3, 3, 7]\n",
      "[2, 3, 3, 17]\n",
      "[677]\n",
      "[2, 3, 5, 5, 7]\n",
      "[3, 5, 5, 19]\n",
      "[2, 17, 53]\n",
      "[3, 727]\n",
      "[2, 3, 7, 61]\n",
      "[5, 19, 31]\n",
      "[2, 3, 3, 5, 37]\n",
      "[3, 3, 7, 59]\n",
      "[2, 2053]\n",
      "[3, 1499]\n",
      "[2, 3, 5, 163]\n",
      "[5, 7, 151]\n",
      "[2, 3, 947]\n",
      "[3, 2027]\n",
      "[2, 7, 463]\n",
      "[3, 3, 3, 3, 5, 17]\n",
      "[2, 3, 3, 3, 3, 3, 3, 5]\n",
      "[43, 179]\n",
      "[2, 3, 7, 193]\n",
      "[3, 17, 167]\n",
      "[2, 5, 19, 47]\n",
      "[3, 5, 7, 89]\n",
      "[2, 3, 1627]\n"
     ]
    }
   ],
   "source": [
    "for i in range(170,210):\n",
    "    print(prime_factors(abs(i**2-n)))"
   ]
  },
  {
   "cell_type": "markdown",
   "metadata": {},
   "source": [
    "** Solution ** \n",
    "$ Q(173)Q(177)Q(188)Q(193)Q(203) = (-2*3*5*7*19)(-2*5*7*37)(3*5^2*19)(2*3^2*5*37)(2*3^6*5) = 2^4*3^{10}*5^6*19^2*37^2$\n",
    "\n",
    "$ gcd((173*177*188*193*203)-(2^2*3^5*5^3*19*37), 33919) = 317 $\n",
    "\n",
    "$gcd((173*177*188*193*203)+(2^2*3^5*5^3*19*37), 33919) = 107 $ "
   ]
  },
  {
   "cell_type": "code",
   "execution_count": 5,
   "metadata": {},
   "outputs": [
    {
     "data": {
      "text/plain": [
       "33919"
      ]
     },
     "execution_count": 5,
     "metadata": {},
     "output_type": "execute_result"
    }
   ],
   "source": [
    "317*107"
   ]
  },
  {
   "cell_type": "markdown",
   "metadata": {
    "collapsed": true
   },
   "source": [
    "## Question 1c"
   ]
  },
  {
   "cell_type": "code",
   "execution_count": 26,
   "metadata": {
    "scrolled": true
   },
   "outputs": [
    {
     "name": "stdout",
     "output_type": "stream",
     "text": [
      "-3544\n",
      "-3033\n",
      "-2520\n",
      "-2005\n",
      "-1488\n",
      "-969\n",
      "-448\n",
      "75\n",
      "600\n",
      "1127\n",
      "1656\n",
      "2187\n",
      "2720\n",
      "3255\n",
      "3792\n",
      "4331\n",
      "4872\n",
      "5415\n",
      "5960\n",
      "6507\n",
      "7056\n",
      "7607\n",
      "8160\n"
     ]
    }
   ],
   "source": [
    "n = 68569\n",
    "for x in range(255,278):\n",
    "    print (x**2-n)"
   ]
  },
  {
   "cell_type": "code",
   "execution_count": 28,
   "metadata": {
    "scrolled": true
   },
   "outputs": [
    {
     "name": "stdout",
     "output_type": "stream",
     "text": [
      "[2, 2, 2, 443]\n",
      "[3, 3, 337]\n",
      "[2, 2, 2, 3, 3, 5, 7]\n",
      "[5, 401]\n",
      "[2, 2, 2, 2, 3, 31]\n",
      "[3, 17, 19]\n",
      "[2, 2, 2, 2, 2, 2, 7]\n",
      "[3, 5, 5]\n",
      "[2, 2, 2, 3, 5, 5]\n",
      "[7, 7, 23]\n",
      "[2, 2, 2, 3, 3, 23]\n",
      "[3, 3, 3, 3, 3, 3, 3]\n",
      "[2, 2, 2, 2, 2, 5, 17]\n",
      "[3, 5, 7, 31]\n",
      "[2, 2, 2, 2, 3, 79]\n",
      "[61, 71]\n",
      "[2, 2, 2, 3, 7, 29]\n",
      "[3, 5, 19, 19]\n",
      "[2, 2, 2, 5, 149]\n",
      "[3, 3, 3, 241]\n",
      "[2, 2, 2, 2, 3, 3, 7, 7]\n",
      "[7607]\n",
      "[2, 2, 2, 2, 2, 3, 5, 17]\n"
     ]
    }
   ],
   "source": [
    "for i in range(255,278):\n",
    "    print(prime_factors(abs(i**2-n)))"
   ]
  },
  {
   "cell_type": "markdown",
   "metadata": {},
   "source": [
    "** Solution ** \n",
    "\n",
    "$Q(262)Q(263)Q(264)Q(265) = (3*5^2)(2^3*3*5)(7^2*23)(2^3*3^2*23) = 2^6*3^4*5^4*7^2*23^2 $ \n",
    "\n",
    "$gcd((262*263*264*265)-(2^3*3^2*5^2*7*23),68569) = 191$\n",
    "\n",
    "$gcd((262*263*264*265)+(2^3*3^2*5^2*7*23),68569) = 359$"
   ]
  },
  {
   "cell_type": "code",
   "execution_count": 4,
   "metadata": {},
   "outputs": [
    {
     "data": {
      "text/plain": [
       "68569"
      ]
     },
     "execution_count": 4,
     "metadata": {},
     "output_type": "execute_result"
    }
   ],
   "source": [
    "191*359"
   ]
  },
  {
   "cell_type": "markdown",
   "metadata": {},
   "source": [
    "## Question 1d"
   ]
  },
  {
   "cell_type": "code",
   "execution_count": 29,
   "metadata": {
    "scrolled": false
   },
   "outputs": [
    {
     "name": "stdout",
     "output_type": "stream",
     "text": [
      "-10761\n",
      "-8940\n",
      "-7117\n",
      "-5292\n",
      "-3465\n",
      "-1636\n",
      "195\n",
      "2028\n",
      "3863\n",
      "5700\n",
      "7539\n",
      "9380\n",
      "11223\n",
      "13068\n",
      "14915\n",
      "16764\n"
     ]
    }
   ],
   "source": [
    "n = 838861\n",
    "for x in range(910,926):\n",
    "    print(x**2-n)"
   ]
  },
  {
   "cell_type": "code",
   "execution_count": 32,
   "metadata": {},
   "outputs": [
    {
     "name": "stdout",
     "output_type": "stream",
     "text": [
      "[3, 17, 211]\n",
      "[2, 2, 3, 5, 149]\n",
      "[11, 647]\n",
      "[2, 2, 3, 3, 3, 7, 7]\n",
      "[3, 3, 5, 7, 11]\n",
      "[2, 2, 409]\n",
      "[3, 5, 13]\n",
      "[2, 2, 3, 13, 13]\n",
      "[3863]\n",
      "[2, 2, 3, 5, 5, 19]\n",
      "[3, 7, 359]\n",
      "[2, 2, 5, 7, 67]\n",
      "[3, 3, 29, 43]\n",
      "[2, 2, 3, 3, 3, 11, 11]\n",
      "[5, 19, 157]\n",
      "[2, 2, 3, 11, 127]\n"
     ]
    }
   ],
   "source": [
    "for i in range(910,926):\n",
    "    print(prime_factors(abs(i**2-n)))"
   ]
  },
  {
   "cell_type": "markdown",
   "metadata": {},
   "source": [
    "** Solution ** \n",
    "$ Q(917)Q(923) = (2^2*3*13^2)(2^2*3^3*11^2) = 2^4*3^4*11^2*13^2 $ \n",
    "\n",
    "$ gcd((917*923)-(2^2*3^2*11*13),838861) = 397 $ \n",
    "\n",
    "$ gcd((917*923)+(2^2*3^2*11*13),838861) = 2113 $ "
   ]
  },
  {
   "cell_type": "code",
   "execution_count": 3,
   "metadata": {},
   "outputs": [
    {
     "data": {
      "text/plain": [
       "838861"
      ]
     },
     "execution_count": 3,
     "metadata": {},
     "output_type": "execute_result"
    }
   ],
   "source": [
    "397*2113"
   ]
  },
  {
   "cell_type": "markdown",
   "metadata": {},
   "source": [
    "## Question 1e"
   ]
  },
  {
   "cell_type": "code",
   "execution_count": 35,
   "metadata": {
    "collapsed": true
   },
   "outputs": [],
   "source": [
    "n = 1016801"
   ]
  },
  {
   "cell_type": "code",
   "execution_count": 36,
   "metadata": {},
   "outputs": [
    {
     "data": {
      "text/plain": [
       "1016800"
      ]
     },
     "execution_count": 36,
     "metadata": {},
     "output_type": "execute_result"
    }
   ],
   "source": [
    "2**31775 % 1016801"
   ]
  },
  {
   "cell_type": "code",
   "execution_count": 50,
   "metadata": {},
   "outputs": [
    {
     "name": "stdout",
     "output_type": "stream",
     "text": [
      "509141\n",
      "1481\n",
      "776112\n",
      "991348\n",
      "152972\n",
      "791371\n"
     ]
    }
   ],
   "source": [
    "print(3**31775 % 1016801)\n",
    "print(3**31775*2 % 1016801)\n",
    "print(3**(31775*2**2) % n)\n",
    "print(3**(31775*2**3) % n)\n",
    "print(3**(31775*2**4) % n)\n",
    "print(3**(31775*2**5) % n)"
   ]
  },
  {
   "cell_type": "code",
   "execution_count": 57,
   "metadata": {
    "scrolled": true
   },
   "outputs": [
    {
     "name": "stdout",
     "output_type": "stream",
     "text": [
      "[7, 7, 7, 107]\n",
      "[2, 2, 2, 2, 2, 5, 7, 31]\n",
      "[19, 1723]\n",
      "[2, 2, 2, 2, 2, 31, 31]\n",
      "[5, 11, 523]\n",
      "[2, 2, 2, 3347]\n",
      "[5, 4957]\n",
      "[2, 2, 2, 7, 11, 37]\n",
      "[7, 2971]\n",
      "[2, 2, 2, 2, 5, 5, 47]\n",
      "[53, 317]\n",
      "[2, 2, 2, 2, 5, 5, 37]\n",
      "[67, 191]\n",
      "[2, 2, 2, 19, 71]\n",
      "[5, 7, 251]\n",
      "[2, 2, 2, 7, 11, 11]\n",
      "[5, 953]\n",
      "[2, 2, 2, 2, 2, 2, 43]\n",
      "[11, 67]\n",
      "[2, 2, 2, 2, 2, 2, 2, 2, 5]\n",
      "[3299]\n",
      "[2, 2, 2, 5, 7, 19]\n",
      "[7, 1049]\n",
      "[2, 2, 2, 1171]\n",
      "[5, 43, 53]\n",
      "[2, 2, 2, 2, 839]\n",
      "[5, 11, 281]\n",
      "[2, 2, 2, 2, 1093]\n",
      "[7, 2789]\n",
      "[2, 2, 2, 5, 7, 7, 11]\n",
      "[23599]\n",
      "[2, 2, 2, 5, 641]\n",
      "[19, 31, 47]\n",
      "[2, 2, 2, 2, 2, 929]\n",
      "[5, 5, 31, 41]\n",
      "[2, 2, 2, 2, 2, 7, 151]\n",
      "[5, 5, 5, 7, 41]\n",
      "[2, 2, 2, 11, 431]\n",
      "[39983]\n",
      "[2, 2, 2, 5, 1051]\n",
      "[11, 19, 211]\n"
     ]
    }
   ],
   "source": [
    "for i in range(990,1031):\n",
    "    print(prime_factors(abs(i**2-n)))"
   ]
  },
  {
   "cell_type": "markdown",
   "metadata": {},
   "source": [
    "** Solution ** \n",
    "\n",
    "$Q(991)Q(999)Q(1011)Q(1022) = (-2^5*5*7*31)(-2^4*5^2*47)(2^3*5*7*19)(19*31*47) = 2^{12}*5^4*7^2*19^2*31^2*47^2 $ \n",
    "\n",
    "$ gcd((991*999*1011*1022)-(2^6*5^2*7*19*31*47),1016801) = 4051 $ \n",
    "\n",
    "$ gcd((991*999*1011*1022)+(2^6*5^2*7*19*31*47),1016801) = 251 $ "
   ]
  },
  {
   "cell_type": "code",
   "execution_count": 2,
   "metadata": {},
   "outputs": [
    {
     "data": {
      "text/plain": [
       "1016801"
      ]
     },
     "execution_count": 2,
     "metadata": {},
     "output_type": "execute_result"
    }
   ],
   "source": [
    "4051*251"
   ]
  },
  {
   "cell_type": "markdown",
   "metadata": {},
   "source": [
    "## Question 1f"
   ]
  },
  {
   "cell_type": "code",
   "execution_count": 62,
   "metadata": {},
   "outputs": [
    {
     "data": {
      "text/plain": [
       "574923.0"
      ]
     },
     "execution_count": 62,
     "metadata": {},
     "output_type": "execute_result"
    }
   ],
   "source": [
    "n = 1149847\n",
    "(n-1)/2"
   ]
  },
  {
   "cell_type": "code",
   "execution_count": 64,
   "metadata": {},
   "outputs": [
    {
     "name": "stdout",
     "output_type": "stream",
     "text": [
      "923023\n",
      "372808\n"
     ]
    }
   ],
   "source": [
    "print(2**(574923) % n)\n",
    "print(2**(574923*2) % n)"
   ]
  },
  {
   "cell_type": "code",
   "execution_count": 66,
   "metadata": {
    "scrolled": true
   },
   "outputs": [
    {
     "name": "stdout",
     "output_type": "stream",
     "text": [
      "[2, 73, 107]\n",
      "[3, 3, 1499]\n",
      "[2, 3, 3, 631]\n",
      "[23, 401]\n",
      "[2, 3, 1181]\n",
      "[3, 17, 97]\n",
      "[2, 23, 61]\n",
      "[3, 13, 17]\n",
      "[2, 3, 13, 19]\n",
      "[19, 191]\n",
      "[2, 3, 3, 3, 107]\n",
      "[3, 3, 881]\n",
      "[2, 71, 71]\n",
      "[3, 4079]\n",
      "[2, 3, 2399]\n",
      "[16553]\n",
      "[2, 3, 3119]\n",
      "[3, 6959]\n",
      "[2, 41, 281]\n",
      "[3, 3, 2801]\n",
      "[2, 3, 3, 3, 3, 13, 13]\n",
      "[13, 2273]\n",
      "[2, 3, 17, 311]\n",
      "[3, 11299]\n",
      "[2, 17, 1061]\n",
      "[3, 41, 311]\n",
      "[2, 3, 23, 293]\n"
     ]
    }
   ],
   "source": [
    "for i in range(1065,1092):\n",
    "    print(prime_factors(abs(i**2-n)))"
   ]
  },
  {
   "cell_type": "markdown",
   "metadata": {
    "collapsed": true
   },
   "source": [
    "** Solution ** \n",
    "\n",
    "$Q(1077)Q(1085) = (2*71^2)(2*3^4*13^2) = 2^2*3^4*13^2*71^2$ \n",
    "\n",
    "$ gcd((1077*1085)-(2*3^2*13*71),1149847) = 521 $\n",
    "\n",
    "$ gcd((1077*1085)+(2*3^2*13*71),1149847) = 2207 $"
   ]
  },
  {
   "cell_type": "code",
   "execution_count": 1,
   "metadata": {},
   "outputs": [
    {
     "data": {
      "text/plain": [
       "1149847"
      ]
     },
     "execution_count": 1,
     "metadata": {},
     "output_type": "execute_result"
    }
   ],
   "source": [
    "521*2207"
   ]
  }
 ],
 "metadata": {
  "kernelspec": {
   "display_name": "Python 3",
   "language": "python",
   "name": "python3"
  },
  "language_info": {
   "codemirror_mode": {
    "name": "ipython",
    "version": 3
   },
   "file_extension": ".py",
   "mimetype": "text/x-python",
   "name": "python",
   "nbconvert_exporter": "python",
   "pygments_lexer": "ipython3",
   "version": "3.6.1"
  }
 },
 "nbformat": 4,
 "nbformat_minor": 2
}
