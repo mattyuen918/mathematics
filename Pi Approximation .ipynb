{
 "cells": [
  {
   "attachments": {},
   "cell_type": "markdown",
   "metadata": {},
   "source": [
    "# Approximations of Pi \n",
    "## Matthew Yuen \n",
    "** Written July 22, 2018: or 22/7/18** \n",
    "\n",
    "** Contents: ** \n",
    "\n",
    "    1.1: Archimedes' Approximation \n",
    "    \n",
    "    1.2: An approximation using integral\n",
    "    \n",
    "    1.3: Madhava-Leibniz Series \n",
    "    \n",
    "    1.4: Wallis Product \n",
    "    \n",
    "    1.5: A collection of approximations for pi \n",
    "    \n",
    "* Note: It can also be done through the [Bailey-Borweign-Plouffe Formula](https://github.com/mattyuen918/mathematics/blob/master/The%20Bailey-Borwein-Plouffe%20formula.ipynb), as I have previously done\n",
    "\n",
    "### 1.1 - Archimedes\n",
    "\n",
    "[Archimedes' approximated pi](https://itech.fgcu.edu/faculty/clindsey/mhf4404/archimedes/archimedes.html) by using perimeters of polygons around a given circle. He found that $\\pi$ was between 2.8 and 4.\n",
    "\n",
    "Basically, if we begin with an image similar to this one: ![Archimedes](https://i1.wp.com/ucanalytics.com/blogs/wp-content/uploads/2014/01/Sqr.jpg)"
   ]
  },
  {
   "cell_type": "markdown",
   "metadata": {},
   "source": [
    "If we take outside square with side length = 1, then perimeter of outside square is 4. \n",
    "\n",
    "Then the inside square we can use pythagorean theorem on the sides to get a side length of the yellow square = $\\sqrt{(0.5^2+0.5^2)} = \\frac{\\sqrt{2}}{2} \\rightarrow$ yellow square perimeter = $4\\frac{\\sqrt{2}}{2} = 2\\sqrt{2} = 2.8$\n"
   ]
  },
  {
   "cell_type": "markdown",
   "metadata": {},
   "source": [
    "We can increase the estimate by increasing the sides of the square by changing the shape to a polygon. \n",
    "![polygon](https://upload.wikimedia.org/wikipedia/commons/c/c9/Archimedes_pi.svg)"
   ]
  },
  {
   "cell_type": "code",
   "execution_count": 9,
   "metadata": {
    "collapsed": true
   },
   "outputs": [],
   "source": [
    "import numpy as np\n",
    "import math "
   ]
  },
  {
   "cell_type": "code",
   "execution_count": 12,
   "metadata": {
    "collapsed": true
   },
   "outputs": [],
   "source": [
    "def est_pi(s):\n",
    "    ' s is the number of sides the outside \"square\" has '\n",
    "    angle = 360/s\n",
    "    inside = (math.sin(math.radians(angle/2)))*s\n",
    "    outside = (math.tan(math.radians(angle/2)))*s\n",
    "    approx = (inside+outside)/2\n",
    "    return approx"
   ]
  },
  {
   "cell_type": "markdown",
   "metadata": {},
   "source": [
    "Let's try our approximation with the example above where the outside square has four sides. "
   ]
  },
  {
   "cell_type": "code",
   "execution_count": 13,
   "metadata": {},
   "outputs": [
    {
     "data": {
      "text/plain": [
       "3.414213562373095"
      ]
     },
     "execution_count": 13,
     "metadata": {},
     "output_type": "execute_result"
    }
   ],
   "source": [
    "est_pi(4)"
   ]
  },
  {
   "cell_type": "markdown",
   "metadata": {},
   "source": [
    "We can see that the more we increase the sides of the outside \"square\", the closer the approximation we get to $\\pi$"
   ]
  },
  {
   "cell_type": "code",
   "execution_count": 16,
   "metadata": {},
   "outputs": [
    {
     "data": {
      "text/plain": [
       "3.141851256073972"
      ]
     },
     "execution_count": 16,
     "metadata": {},
     "output_type": "execute_result"
    }
   ],
   "source": [
    "est_pi(100)"
   ]
  },
  {
   "cell_type": "markdown",
   "metadata": {},
   "source": [
    "### 1.2 - Another Approximation "
   ]
  },
  {
   "cell_type": "markdown",
   "metadata": {},
   "source": [
    "Here's another approxmation for $\\pi$: \n",
    "\n",
    "$$ 0 < \\int_0^1 \\frac{x^4(1-x)^4}{1+x^2} dx = \\frac{22}{7} - \\pi $$ "
   ]
  },
  {
   "cell_type": "code",
   "execution_count": 19,
   "metadata": {
    "collapsed": true
   },
   "outputs": [],
   "source": [
    "import scipy.integrate as spi"
   ]
  },
  {
   "cell_type": "code",
   "execution_count": 35,
   "metadata": {
    "collapsed": true
   },
   "outputs": [],
   "source": [
    "def integral(z):\n",
    "    ' x is an integer'\n",
    "    x = np.linspace(0,1,1000)\n",
    "    y = (x**4*(1-x)**4)/(1+x**2)\n",
    "    result = spi.trapz(y,x)\n",
    "    return result"
   ]
  },
  {
   "cell_type": "code",
   "execution_count": 36,
   "metadata": {},
   "outputs": [
    {
     "data": {
      "text/plain": [
       "0.0012644892673496187"
      ]
     },
     "execution_count": 36,
     "metadata": {},
     "output_type": "execute_result"
    }
   ],
   "source": [
    "integral(0)"
   ]
  },
  {
   "cell_type": "code",
   "execution_count": 51,
   "metadata": {},
   "outputs": [
    {
     "data": {
      "text/plain": [
       "0.0012644892673496777"
      ]
     },
     "execution_count": 51,
     "metadata": {},
     "output_type": "execute_result"
    }
   ],
   "source": [
    "diff = 22/7 - np.pi \n",
    "diff"
   ]
  },
  {
   "cell_type": "code",
   "execution_count": 53,
   "metadata": {},
   "outputs": [
    {
     "data": {
      "text/plain": [
       "5.8980598183211441e-17"
      ]
     },
     "execution_count": 53,
     "metadata": {},
     "output_type": "execute_result"
    }
   ],
   "source": [
    "diff - integral(0)"
   ]
  },
  {
   "cell_type": "markdown",
   "metadata": {},
   "source": [
    "We can see that this result is very small, but still greater than 0. "
   ]
  },
  {
   "cell_type": "code",
   "execution_count": 54,
   "metadata": {},
   "outputs": [
    {
     "data": {
      "text/plain": [
       "0.0012644892673496187"
      ]
     },
     "execution_count": 54,
     "metadata": {},
     "output_type": "execute_result"
    }
   ],
   "source": [
    "integral(99)"
   ]
  },
  {
   "cell_type": "markdown",
   "metadata": {},
   "source": [
    "### 1.3 - Madhava-Leibniz Series \n",
    "\n",
    "[Madhava-Leibniz Series](https://en.wikipedia.org/wiki/Leibniz_formula_for_π) was discovered by astronomer Madhava which makes use of the Leibniz Formula for $\\pi$\n",
    "\n",
    "The Madhava-Leibniz Series is a special case where it uses the inverse tangent function: \n",
    "\n",
    "$$ \\arctan x = x - \\frac{x^3}{3} + \\frac{x^5}{5} - \\frac{x^7}{7} + \\cdots $$\n",
    "\n",
    "Note: The Leibniz Formula for $\\frac{\\pi}{4}$ can be obtained by plugging x = 1 "
   ]
  },
  {
   "cell_type": "markdown",
   "metadata": {},
   "source": [
    "Additionally: We can write is as the [Gregory's Series](https://en.wikipedia.org/wiki/Gregory%27s_series) \n",
    "\n",
    "$$ \\int_0^x \\frac{dx}{1+x^2} = \\arctan x $$ "
   ]
  },
  {
   "cell_type": "markdown",
   "metadata": {},
   "source": [
    "We can write the Leibniz Series as a Convergence Function: \n",
    "$$ \\frac{\\pi}{4} = \\sum_{n=0}^\\infty\\left(\\frac{1}{4n+1} - \\frac{1}{4n+3}\\right) = \\sum_{n=0}^\\infty\\frac{2}{(4n+1)(4n+3)} $$ "
   ]
  },
  {
   "cell_type": "code",
   "execution_count": 66,
   "metadata": {
    "collapsed": true
   },
   "outputs": [],
   "source": [
    "from decimal import * "
   ]
  },
  {
   "cell_type": "code",
   "execution_count": 75,
   "metadata": {},
   "outputs": [],
   "source": [
    "def leibniz(n):\n",
    "    ' n is a natural number '\n",
    "    getcontext().prec=n\n",
    "    return sum(2/((4*n+1)*(4*n+3)) for n in range(n))"
   ]
  },
  {
   "cell_type": "code",
   "execution_count": 76,
   "metadata": {},
   "outputs": [
    {
     "data": {
      "text/plain": [
       "0.7238095238095238"
      ]
     },
     "execution_count": 76,
     "metadata": {},
     "output_type": "execute_result"
    }
   ],
   "source": [
    "leibniz(2)"
   ]
  },
  {
   "cell_type": "code",
   "execution_count": 77,
   "metadata": {},
   "outputs": [
    {
     "data": {
      "text/plain": [
       "0.7853856621473301"
      ]
     },
     "execution_count": 77,
     "metadata": {},
     "output_type": "execute_result"
    }
   ],
   "source": [
    "leibniz(9999)"
   ]
  },
  {
   "cell_type": "code",
   "execution_count": 74,
   "metadata": {},
   "outputs": [
    {
     "data": {
      "text/plain": [
       "0.7853981633974483"
      ]
     },
     "execution_count": 74,
     "metadata": {},
     "output_type": "execute_result"
    }
   ],
   "source": [
    "np.pi/4"
   ]
  },
  {
   "cell_type": "code",
   "execution_count": 81,
   "metadata": {
    "collapsed": true
   },
   "outputs": [],
   "source": [
    "def madhava(z):\n",
    "    # z = 1 is the general leibniz formula \n",
    "    x = np.linspace(0,z,1000)\n",
    "    y = 1/(1+x**2)\n",
    "    return spi.trapz(y,x)"
   ]
  },
  {
   "cell_type": "code",
   "execution_count": 82,
   "metadata": {},
   "outputs": [
    {
     "data": {
      "text/plain": [
       "0.78539812164732314"
      ]
     },
     "execution_count": 82,
     "metadata": {},
     "output_type": "execute_result"
    }
   ],
   "source": [
    "madhava(1)"
   ]
  },
  {
   "cell_type": "code",
   "execution_count": 88,
   "metadata": {},
   "outputs": [
    {
     "data": {
      "text/plain": [
       "3.1415924865892926"
      ]
     },
     "execution_count": 88,
     "metadata": {},
     "output_type": "execute_result"
    }
   ],
   "source": [
    "madhava(1)*4"
   ]
  },
  {
   "cell_type": "markdown",
   "metadata": {},
   "source": [
    "### 1.4 - Wallis Product\n",
    "\n",
    "The [Wallis Product](https://en.wikipedia.org/wiki/Wallis_product) for $\\pi$\n",
    "$$ \\prod_{n=1}^\\infty \\left( \\frac{2n}{2n-1} * \\frac{2n}{2n+1} \\right) = 2*\\frac{2}{3}*\\frac{4}{3}*\\frac{4}{5}*\\frac{6}{5}*\\frac{6}{7} \\cdots = \\frac{\\pi}{2} $$ "
   ]
  },
  {
   "cell_type": "code",
   "execution_count": 178,
   "metadata": {
    "collapsed": true
   },
   "outputs": [],
   "source": [
    "def wallis(n):\n",
    "    ' Code from Miller et. al, 2009'\n",
    "    acc = 1 \n",
    "    num = 2 \n",
    "    for apair in range(n):\n",
    "        leftterm = num/(num-1)\n",
    "        rightterm = num/(num+1)\n",
    "        acc = acc * leftterm * rightterm \n",
    "        num = num + 2 \n",
    "    pi = acc * 2 \n",
    "    return pi"
   ]
  },
  {
   "cell_type": "code",
   "execution_count": 179,
   "metadata": {},
   "outputs": [
    {
     "data": {
      "text/plain": [
       "3.1337874906281575"
      ]
     },
     "execution_count": 179,
     "metadata": {},
     "output_type": "execute_result"
    }
   ],
   "source": [
    "wallis(100)"
   ]
  },
  {
   "cell_type": "code",
   "execution_count": 180,
   "metadata": {},
   "outputs": [
    {
     "data": {
      "text/plain": [
       "3.1408077460303785"
      ]
     },
     "execution_count": 180,
     "metadata": {},
     "output_type": "execute_result"
    }
   ],
   "source": [
    "wallis(1000)"
   ]
  },
  {
   "cell_type": "code",
   "execution_count": 181,
   "metadata": {},
   "outputs": [
    {
     "data": {
      "text/plain": [
       "3.141514118681855"
      ]
     },
     "execution_count": 181,
     "metadata": {},
     "output_type": "execute_result"
    }
   ],
   "source": [
    "wallis(10000)"
   ]
  },
  {
   "cell_type": "markdown",
   "metadata": {},
   "source": [
    "### 1.5 - A Collection of Approximations for $\\pi$"
   ]
  },
  {
   "cell_type": "markdown",
   "metadata": {},
   "source": [
    "** (i) **  \n",
    "- From [Srinivasa Ramanujan](https://en.wikipedia.org/wiki/Ramanujan), which is accurate to 9 digits \n",
    "\n",
    "$$ \\left(3^4+2^4+\\frac{1}{2+\\frac{2}{3}^2}\\right)^{1/4}$$ "
   ]
  },
  {
   "cell_type": "code",
   "execution_count": 183,
   "metadata": {},
   "outputs": [
    {
     "data": {
      "text/plain": [
       "3.1415926525826463"
      ]
     },
     "execution_count": 183,
     "metadata": {},
     "output_type": "execute_result"
    }
   ],
   "source": [
    "(3**4+2**4+1/((2+(2/3)**2)))**(0.25)"
   ]
  },
  {
   "cell_type": "markdown",
   "metadata": {},
   "source": [
    "** (ii) ** \n",
    "- This is accurate to 30 decimal places: \n",
    "$$ \\frac{\\ln(640320^3+744)}{\\sqrt{163}} $$ "
   ]
  },
  {
   "cell_type": "code",
   "execution_count": 190,
   "metadata": {},
   "outputs": [
    {
     "data": {
      "text/plain": [
       "3.1415926535897931"
      ]
     },
     "execution_count": 190,
     "metadata": {},
     "output_type": "execute_result"
    }
   ],
   "source": [
    "np.log(640320**3+744)/((163)**0.5)"
   ]
  },
  {
   "cell_type": "code",
   "execution_count": 191,
   "metadata": {},
   "outputs": [
    {
     "data": {
      "text/plain": [
       "3.141592653589793"
      ]
     },
     "execution_count": 191,
     "metadata": {},
     "output_type": "execute_result"
    }
   ],
   "source": [
    "math.log(640320**3+744)/((163)**0.5)"
   ]
  },
  {
   "cell_type": "markdown",
   "metadata": {},
   "source": [
    "** (iii) ** \n",
    "- This is accurate to 52 decimal places: \n",
    "$$ \\frac{\\ln(5280^3(236674+30303\\sqrt{61})^3+744)}{\\sqrt{427}} $$ "
   ]
  },
  {
   "cell_type": "code",
   "execution_count": 196,
   "metadata": {},
   "outputs": [
    {
     "data": {
      "text/plain": [
       "3.1415926535897936"
      ]
     },
     "execution_count": 196,
     "metadata": {},
     "output_type": "execute_result"
    }
   ],
   "source": [
    "np.log((5280**3*(236674+30303*(61)**(0.5))**3+744))/(427)**(0.5)"
   ]
  },
  {
   "cell_type": "markdown",
   "metadata": {},
   "source": [
    "** (iv) ** \n",
    "- This is accurate to 161 decimal places \n",
    "$$ \\frac{\\ln((2u)^6+24)}{\\sqrt{3502}} $$ \n",
    "\n",
    "where u = $(a+\\sqrt{a^2-1})^2(b+\\sqrt{b^2-1})^2(c+\\sqrt{c^2-1})(d+\\sqrt{d^2-1})$, \n",
    "$ a = 0.5(23+4\\sqrt{34}), b = 0.5(19\\sqrt{2}+7\\sqrt{17}), c = 429+304\\sqrt{2}, d = 0.5(627+442\\sqrt{2})$"
   ]
  },
  {
   "cell_type": "code",
   "execution_count": 215,
   "metadata": {},
   "outputs": [],
   "source": [
    "a = 0.5*(23+4*(34**0.5))\n",
    "b = 0.5*(19*(2**0.5)+7*(17**0.5))\n",
    "c = (429+304*(2**0.5))\n",
    "d = 0.5*(627+442*(2**0.5))"
   ]
  },
  {
   "cell_type": "code",
   "execution_count": 222,
   "metadata": {},
   "outputs": [],
   "source": [
    "u = ((a+((a)**2-1)**0.5)**2*((b+(b**2-1)**0.5)**2)*((c+(c**2-1)**0.5))*((d+(d**2-1)**0.5)))"
   ]
  },
  {
   "cell_type": "code",
   "execution_count": 223,
   "metadata": {},
   "outputs": [
    {
     "data": {
      "text/plain": [
       "3.1415926535897931"
      ]
     },
     "execution_count": 223,
     "metadata": {},
     "output_type": "execute_result"
    }
   ],
   "source": [
    "np.log((2*u)**6+24)/(3502)**0.5"
   ]
  },
  {
   "cell_type": "markdown",
   "metadata": {},
   "source": [
    "### Sources: \n",
    "\n",
    "Miller, Bradley N. et al. (2009). Python Programming in Context. Sudbury, Massachusetts: Jones and \n",
    "    Bartlett Publishers, LLC. \n",
    "\n",
    "Prehistoric Calculus: Discovering Pi, (n.d.). Retrieved from \n",
    "    https://betterexplained.com/articles/prehistoric-calculus-discovering-pi/ \n",
    "\n"
   ]
  }
 ],
 "metadata": {
  "kernelspec": {
   "display_name": "Python 3",
   "language": "python",
   "name": "python3"
  },
  "language_info": {
   "codemirror_mode": {
    "name": "ipython",
    "version": 3
   },
   "file_extension": ".py",
   "mimetype": "text/x-python",
   "name": "python",
   "nbconvert_exporter": "python",
   "pygments_lexer": "ipython3",
   "version": "3.6.1"
  }
 },
 "nbformat": 4,
 "nbformat_minor": 2
}
