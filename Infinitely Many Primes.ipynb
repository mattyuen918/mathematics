{
 "cells": [
  {
   "cell_type": "markdown",
   "metadata": {},
   "source": [
    "#### 1. Prove there are infinitely many primes of the form 6k+5\n",
    "\n",
    "** Proof **: Using contradiction, suppose that there are finitely many primes of the form 6k+5. Then we say $Q = 6p_1p_2...p_n+5$ primes. Since $2 \\nmid Q$, then we have primes of the form 6k+1, 6k+3, 6k+5. \n",
    "\n",
    "If primes are of the form 6k+1, then all solutions are of the form 6k+1 $\\rightarrow$ contradiction. Similarly with 6k+3. \n",
    "\n",
    "Suppose primes are of the form 6k+5. If p=5, then we get $ 5 \\mid (Q-5) = 6p_1p_2...p_n \\rightarrow$ contradiction. Thus we conclude that there are infinitely many primes of the form 6k+5. \n",
    "\n",
    "QED"
   ]
  },
  {
   "cell_type": "markdown",
   "metadata": {},
   "source": [
    "\n",
    "Notes:\n",
    "\n",
    "Lemma: Let a,b $\\in\\mathbb{Z}$ of the form 4k+1. Then ab is also of the form 4k+1. \n",
    "\n",
    "** Proof **: Let a be of the form $4k_0+1$ and b be of the form $4k_1+1$. Then: \n",
    "\n",
    "$$ ab = (4k_0+1)(4k_1+1) $$ \n",
    "$$ \\space \\space \\space \\space \\space \\space \\space \\space \\space \\space \\space \\space= 16k_0k_1+4k_0+4k_1+1 $$ \n",
    "$$ \\space \\space \\space \\space \\space \\space \\space \\space \\space \\space \\space = 4(4k_0k_1+k_0+k_1)+1$$\n",
    "\n",
    "Thus ab = $4k_2+1, \\space k_2 = (4k_0k_1+k_0+k_1)\\space\\in\\mathbb{Z}$\n",
    "\n",
    "QED "
   ]
  },
  {
   "cell_type": "markdown",
   "metadata": {},
   "source": [
    "We can see the Lemma is false if replaced with 4k+3: \n",
    "\n",
    "** Proof **: Let a = $4k_3+1, b = 4k_4+1$. Then: \n",
    "$$ ab = (4k_3+1)(4k_4+1) $$ \n",
    "$$ = 16k_3k_4+12k_3+12k_4+9$$\n",
    "$$ = 4(4k_3k_4+3k_3+3k_4+2)+1$$\n",
    "\n",
    "Thus ab is still of the form 4k+1. \n",
    "\n",
    "QED "
   ]
  },
  {
   "cell_type": "markdown",
   "metadata": {},
   "source": [
    "#### 2. Show that $Q_n = n! + 1, n\\in\\mathbb{Z} > 0$ has prime divisors greater than n. Conclude that there are infinitely many primes. \n",
    "\n",
    "** Proof **: Suppose $p \\leq n$. Then $p \\mid Q_n - n! = 1 \\rightarrow $ contradiction. We conclude that there are infinitely many primes for p > n. \n",
    "\n",
    "QED "
   ]
  },
  {
   "cell_type": "markdown",
   "metadata": {},
   "source": [
    "#### 3. Infinitely many primes by looking at the integer $S_n = n! -1, n\\in\\mathbb{Z} > 0.$ \n",
    "\n",
    "** Proof **: Suppose $n\\in\\mathbb{Z} > 0,$ and p < n. Consider the integer $S_n = n! - 1$. If n = 2, then $S_n \\leq 1$. \n",
    "\n",
    "Assume n > 3, so $S_n \\geq 1$. If $p \\mid n!$, then $p\\mid n! - S_n = 1 \\rightarrow$ contradiction. \n",
    "\n",
    "QED "
   ]
  }
 ],
 "metadata": {
  "kernelspec": {
   "display_name": "Python 3",
   "language": "python",
   "name": "python3"
  },
  "language_info": {
   "codemirror_mode": {
    "name": "ipython",
    "version": 3
   },
   "file_extension": ".py",
   "mimetype": "text/x-python",
   "name": "python",
   "nbconvert_exporter": "python",
   "pygments_lexer": "ipython3",
   "version": "3.6.1"
  }
 },
 "nbformat": 4,
 "nbformat_minor": 2
}
