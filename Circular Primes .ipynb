{
 "cells": [
  {
   "cell_type": "markdown",
   "metadata": {},
   "source": [
    "# Circular Primes \n",
    "\n",
    "## Matthew Yuen \n",
    "\n",
    "A Circular Prime is a prime number with the property that if we were to rearrange the numbers at each intermediate step we would still get another prime number. It is first discovered by [David J. Darling](https://en.wikipedia.org/wiki/David_J._Darling) in 2004. \n",
    "\n",
    "Clearly numbers containing 0, 2, 4, 6, 8 cannot be circular primes as they will be divisible by 2 or 5. "
   ]
  },
  {
   "cell_type": "code",
   "execution_count": 1,
   "metadata": {
    "collapsed": true
   },
   "outputs": [],
   "source": [
    "import numpy as np"
   ]
  },
  {
   "cell_type": "markdown",
   "metadata": {},
   "source": [
    "First lets write a simple function to check if a number is prime"
   ]
  },
  {
   "cell_type": "code",
   "execution_count": 5,
   "metadata": {
    "collapsed": true
   },
   "outputs": [],
   "source": [
    "def is_prime(x):\n",
    "    if x <= 1: \n",
    "        return False \n",
    "    for p in range(2,x):\n",
    "        if x % p == 0:\n",
    "            return False \n",
    "    return True"
   ]
  },
  {
   "cell_type": "code",
   "execution_count": 6,
   "metadata": {},
   "outputs": [
    {
     "data": {
      "text/plain": [
       "True"
      ]
     },
     "execution_count": 6,
     "metadata": {},
     "output_type": "execute_result"
    }
   ],
   "source": [
    "is_prime(2)"
   ]
  },
  {
   "cell_type": "code",
   "execution_count": 7,
   "metadata": {},
   "outputs": [
    {
     "data": {
      "text/plain": [
       "False"
      ]
     },
     "execution_count": 7,
     "metadata": {},
     "output_type": "execute_result"
    }
   ],
   "source": [
    "is_prime(4)"
   ]
  },
  {
   "cell_type": "markdown",
   "metadata": {},
   "source": [
    "### Example 1.1 \n",
    "An example of a circular prime is $p = 13$. We can shift $p_0 = 13 $ and write $p_1 = 31$ "
   ]
  },
  {
   "cell_type": "code",
   "execution_count": 17,
   "metadata": {},
   "outputs": [
    {
     "name": "stdout",
     "output_type": "stream",
     "text": [
      "Is Prime\n",
      "Is Prime\n"
     ]
    }
   ],
   "source": [
    "p = [13,31]\n",
    "for i in p: \n",
    "    if is_prime(i):\n",
    "        print('Is Prime')"
   ]
  },
  {
   "cell_type": "markdown",
   "metadata": {},
   "source": [
    "### Example 1.2 \n",
    "\n",
    "Take $ p_0 = 197$. Then $p_1 = 971, p_2 = 719 $"
   ]
  },
  {
   "cell_type": "code",
   "execution_count": 18,
   "metadata": {},
   "outputs": [
    {
     "name": "stdout",
     "output_type": "stream",
     "text": [
      "Is Prime\n",
      "Is Prime\n",
      "Is Prime\n"
     ]
    }
   ],
   "source": [
    "p = [197,971,719]\n",
    "for i in p:\n",
    "    if is_prime(i):\n",
    "        print('Is Prime')"
   ]
  },
  {
   "cell_type": "markdown",
   "metadata": {},
   "source": [
    "### Example 1.3 \n",
    "\n",
    "Take $p_0 = 9377, p_1 = 3779, p_2 = 7793, p_3 = 7937 $"
   ]
  },
  {
   "cell_type": "code",
   "execution_count": 19,
   "metadata": {},
   "outputs": [
    {
     "name": "stdout",
     "output_type": "stream",
     "text": [
      "Is Prime\n",
      "Is Prime\n",
      "Is Prime\n",
      "Is Prime\n"
     ]
    }
   ],
   "source": [
    "p = [9377,3779,7793,7937]\n",
    "for i in p: \n",
    "    if is_prime(i):\n",
    "        print('Is Prime')"
   ]
  },
  {
   "cell_type": "markdown",
   "metadata": {},
   "source": [
    "### Example 1.4\n",
    "\n",
    "Another example of a circular prime is $ n = 193939 $ \n",
    "\n",
    "We can permutate $n$ by beginning with moving the 1 to the far right and the next number until we restart the cycle: \n",
    "\n",
    "193939, 939391, 393919, 939193, 391939, 919393 "
   ]
  },
  {
   "cell_type": "code",
   "execution_count": 8,
   "metadata": {},
   "outputs": [
    {
     "data": {
      "text/plain": [
       "True"
      ]
     },
     "execution_count": 8,
     "metadata": {},
     "output_type": "execute_result"
    }
   ],
   "source": [
    "is_prime(193939)"
   ]
  },
  {
   "cell_type": "code",
   "execution_count": 14,
   "metadata": {},
   "outputs": [],
   "source": [
    "n =[193939,939391,393919,939193,391939,919393]"
   ]
  },
  {
   "cell_type": "code",
   "execution_count": 15,
   "metadata": {},
   "outputs": [
    {
     "name": "stdout",
     "output_type": "stream",
     "text": [
      "Is Prime\n",
      "Is Prime\n",
      "Is Prime\n",
      "Is Prime\n",
      "Is Prime\n",
      "Is Prime\n"
     ]
    }
   ],
   "source": [
    "for i in n:\n",
    "    if is_prime(i):\n",
    "        print('Is Prime')"
   ]
  },
  {
   "cell_type": "markdown",
   "metadata": {},
   "source": [
    "### Checking if a number is a circular prime"
   ]
  },
  {
   "cell_type": "code",
   "execution_count": 27,
   "metadata": {
    "collapsed": true
   },
   "outputs": [],
   "source": [
    "def rotate(n):\n",
    "    \" Takes an integer n and rotates by shifting integer \"\n",
    "    rotlist = []\n",
    "    m = str(n)\n",
    "    counter = 0\n",
    "    while counter < len(str(n)):\n",
    "        m = m[1:] + m[0]\n",
    "        rotlist.append(int(m))\n",
    "        counter += 1\n",
    "    return rotlist"
   ]
  },
  {
   "cell_type": "code",
   "execution_count": 28,
   "metadata": {
    "collapsed": true
   },
   "outputs": [],
   "source": [
    "def iscircularprime(n):\n",
    "    np = [0,2,4,5,6,8]\n",
    "    y = str(n)\n",
    "    for j in y:\n",
    "        if int(j) in np:\n",
    "            return False  # makes sure integer does not contain any of 0, 2, 4, 6, 8 \n",
    "    if is_prime(n) == False:\n",
    "        return False\n",
    "    m = rotate(n)\n",
    "    \n",
    "    iscircularprime = True\n",
    "    for i in m: \n",
    "        if not is_prime(i):\n",
    "            iscircularprime = False \n",
    "    return iscircularprime\n"
   ]
  },
  {
   "cell_type": "code",
   "execution_count": 29,
   "metadata": {},
   "outputs": [
    {
     "data": {
      "text/plain": [
       "[31, 13]"
      ]
     },
     "execution_count": 29,
     "metadata": {},
     "output_type": "execute_result"
    }
   ],
   "source": [
    "rotate(13)"
   ]
  },
  {
   "cell_type": "code",
   "execution_count": 30,
   "metadata": {},
   "outputs": [
    {
     "data": {
      "text/plain": [
       "True"
      ]
     },
     "execution_count": 30,
     "metadata": {},
     "output_type": "execute_result"
    }
   ],
   "source": [
    "iscircularprime(13)"
   ]
  },
  {
   "cell_type": "code",
   "execution_count": 31,
   "metadata": {},
   "outputs": [
    {
     "data": {
      "text/plain": [
       "[939391, 393919, 939193, 391939, 919393, 193939]"
      ]
     },
     "execution_count": 31,
     "metadata": {},
     "output_type": "execute_result"
    }
   ],
   "source": [
    "rotate(193939)"
   ]
  },
  {
   "cell_type": "code",
   "execution_count": 32,
   "metadata": {},
   "outputs": [
    {
     "data": {
      "text/plain": [
       "True"
      ]
     },
     "execution_count": 32,
     "metadata": {},
     "output_type": "execute_result"
    }
   ],
   "source": [
    "iscircularprime(193939)"
   ]
  },
  {
   "cell_type": "markdown",
   "metadata": {},
   "source": [
    "Reference: \n",
    "\n",
    "Caldwell, C. (1999-2018). circular prime. Retrieved from [The Prime Glossary](http://primes.utm.edu/glossary/xpage/CircularPrime.html)\n",
    "\n",
    "[The On-Line Encyclopedia of Integer Sequences](http://oeis.org/A068652)"
   ]
  }
 ],
 "metadata": {
  "kernelspec": {
   "display_name": "Python 3",
   "language": "python",
   "name": "python3"
  },
  "language_info": {
   "codemirror_mode": {
    "name": "ipython",
    "version": 3
   },
   "file_extension": ".py",
   "mimetype": "text/x-python",
   "name": "python",
   "nbconvert_exporter": "python",
   "pygments_lexer": "ipython3",
   "version": "3.6.1"
  }
 },
 "nbformat": 4,
 "nbformat_minor": 2
}
